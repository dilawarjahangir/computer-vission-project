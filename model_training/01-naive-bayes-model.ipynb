{
 "cells": [
  {
   "cell_type": "code",
   "execution_count": 1,
   "metadata": {},
   "outputs": [
    {
     "name": "stdout",
     "output_type": "stream",
     "text": [
      "Loaded 8110 images with corresponding labels.\n"
     ]
    }
   ],
   "source": [
    "import os\n",
    "import cv2\n",
    "import numpy as np\n",
    "\n",
    "# Function to load images from a directory and return them as a list\n",
    "def load_images_from_folder(folder_path):\n",
    "    images = []\n",
    "    labels = []\n",
    "    for label_folder in os.listdir(folder_path):\n",
    "        label_folder_path = os.path.join(folder_path, label_folder)\n",
    "        for filename in os.listdir(label_folder_path):\n",
    "            img_path = os.path.join(label_folder_path, filename)\n",
    "            img = cv2.imread(img_path)\n",
    "            if img is not None:\n",
    "                images.append(img)\n",
    "                labels.append(label_folder)  # Label can be 'car', 'motorcycle', or 'no_vehicle'\n",
    "    return images, labels\n",
    "\n",
    "# Load dataset\n",
    "dataset_folder = '../dataset/images'\n",
    "images, labels = load_images_from_folder(dataset_folder)\n",
    "print(f\"Loaded {len(images)} images with corresponding labels.\")\n"
   ]
  },
  {
   "cell_type": "code",
   "execution_count": 2,
   "metadata": {},
   "outputs": [
    {
     "name": "stdout",
     "output_type": "stream",
     "text": [
      "Image is too small for HOG feature extraction. Size: (14, 18)\n",
      "Image is too small for HOG feature extraction. Size: (31, 12)\n"
     ]
    },
    {
     "ename": "KeyboardInterrupt",
     "evalue": "",
     "output_type": "error",
     "traceback": [
      "\u001b[1;31m---------------------------------------------------------------------------\u001b[0m",
      "\u001b[1;31mKeyboardInterrupt\u001b[0m                         Traceback (most recent call last)",
      "Cell \u001b[1;32mIn[2], line 39\u001b[0m\n\u001b[0;32m     36\u001b[0m     \u001b[38;5;28;01mreturn\u001b[39;00m np\u001b[38;5;241m.\u001b[39mconcatenate((color_features, spatial_features, hog_features))\n\u001b[0;32m     38\u001b[0m \u001b[38;5;66;03m# Extract features from the dataset\u001b[39;00m\n\u001b[1;32m---> 39\u001b[0m features \u001b[38;5;241m=\u001b[39m [\u001b[43mextract_combined_features\u001b[49m\u001b[43m(\u001b[49m\u001b[43mimg\u001b[49m\u001b[43m)\u001b[49m \u001b[38;5;28;01mfor\u001b[39;00m img \u001b[38;5;129;01min\u001b[39;00m images]\n",
      "Cell \u001b[1;32mIn[2], line 35\u001b[0m, in \u001b[0;36mextract_combined_features\u001b[1;34m(image)\u001b[0m\n\u001b[0;32m     33\u001b[0m color_features \u001b[38;5;241m=\u001b[39m extract_color_histogram(image, bins\u001b[38;5;241m=\u001b[39m\u001b[38;5;241m32\u001b[39m)\n\u001b[0;32m     34\u001b[0m spatial_features \u001b[38;5;241m=\u001b[39m extract_spatial_binning(image, size\u001b[38;5;241m=\u001b[39m(\u001b[38;5;241m32\u001b[39m, \u001b[38;5;241m32\u001b[39m))\n\u001b[1;32m---> 35\u001b[0m hog_features \u001b[38;5;241m=\u001b[39m \u001b[43mextract_hog_features\u001b[49m\u001b[43m(\u001b[49m\u001b[43mimage\u001b[49m\u001b[43m)\u001b[49m  \u001b[38;5;66;03m# Extract HOG features with size check\u001b[39;00m\n\u001b[0;32m     36\u001b[0m \u001b[38;5;28;01mreturn\u001b[39;00m np\u001b[38;5;241m.\u001b[39mconcatenate((color_features, spatial_features, hog_features))\n",
      "Cell \u001b[1;32mIn[2], line 22\u001b[0m, in \u001b[0;36mextract_hog_features\u001b[1;34m(image, orientations, pixels_per_cell, cells_per_block)\u001b[0m\n\u001b[0;32m     20\u001b[0m \u001b[38;5;66;03m# Ensure the image size is large enough for the given HOG parameters\u001b[39;00m\n\u001b[0;32m     21\u001b[0m \u001b[38;5;28;01mif\u001b[39;00m gray_image\u001b[38;5;241m.\u001b[39mshape[\u001b[38;5;241m0\u001b[39m] \u001b[38;5;241m>\u001b[39m\u001b[38;5;241m=\u001b[39m pixels_per_cell[\u001b[38;5;241m0\u001b[39m] \u001b[38;5;241m*\u001b[39m cells_per_block[\u001b[38;5;241m0\u001b[39m] \u001b[38;5;129;01mand\u001b[39;00m gray_image\u001b[38;5;241m.\u001b[39mshape[\u001b[38;5;241m1\u001b[39m] \u001b[38;5;241m>\u001b[39m\u001b[38;5;241m=\u001b[39m pixels_per_cell[\u001b[38;5;241m1\u001b[39m] \u001b[38;5;241m*\u001b[39m cells_per_block[\u001b[38;5;241m1\u001b[39m]:\n\u001b[1;32m---> 22\u001b[0m     features, _ \u001b[38;5;241m=\u001b[39m \u001b[43mhog\u001b[49m\u001b[43m(\u001b[49m\u001b[43mgray_image\u001b[49m\u001b[43m,\u001b[49m\u001b[43m \u001b[49m\u001b[43morientations\u001b[49m\u001b[38;5;241;43m=\u001b[39;49m\u001b[43morientations\u001b[49m\u001b[43m,\u001b[49m\u001b[43m \u001b[49m\u001b[43mpixels_per_cell\u001b[49m\u001b[38;5;241;43m=\u001b[39;49m\u001b[43mpixels_per_cell\u001b[49m\u001b[43m,\u001b[49m\n\u001b[0;32m     23\u001b[0m \u001b[43m                      \u001b[49m\u001b[43mcells_per_block\u001b[49m\u001b[38;5;241;43m=\u001b[39;49m\u001b[43mcells_per_block\u001b[49m\u001b[43m,\u001b[49m\u001b[43m \u001b[49m\u001b[43mvisualize\u001b[49m\u001b[38;5;241;43m=\u001b[39;49m\u001b[38;5;28;43;01mTrue\u001b[39;49;00m\u001b[43m)\u001b[49m\n\u001b[0;32m     24\u001b[0m     \u001b[38;5;28;01mreturn\u001b[39;00m features\n\u001b[0;32m     25\u001b[0m \u001b[38;5;28;01melse\u001b[39;00m:\n\u001b[0;32m     26\u001b[0m     \u001b[38;5;66;03m# Return a placeholder if the image is too small for HOG\u001b[39;00m\n",
      "File \u001b[1;32md:\\VS-code\\Github\\Project02\\vnev\\Lib\\site-packages\\skimage\\_shared\\utils.py:438\u001b[0m, in \u001b[0;36mchannel_as_last_axis.__call__.<locals>.fixed_func\u001b[1;34m(*args, **kwargs)\u001b[0m\n\u001b[0;32m    435\u001b[0m channel_axis \u001b[38;5;241m=\u001b[39m kwargs\u001b[38;5;241m.\u001b[39mget(\u001b[38;5;124m'\u001b[39m\u001b[38;5;124mchannel_axis\u001b[39m\u001b[38;5;124m'\u001b[39m, \u001b[38;5;28;01mNone\u001b[39;00m)\n\u001b[0;32m    437\u001b[0m \u001b[38;5;28;01mif\u001b[39;00m channel_axis \u001b[38;5;129;01mis\u001b[39;00m \u001b[38;5;28;01mNone\u001b[39;00m:\n\u001b[1;32m--> 438\u001b[0m     \u001b[38;5;28;01mreturn\u001b[39;00m \u001b[43mfunc\u001b[49m\u001b[43m(\u001b[49m\u001b[38;5;241;43m*\u001b[39;49m\u001b[43margs\u001b[49m\u001b[43m,\u001b[49m\u001b[43m \u001b[49m\u001b[38;5;241;43m*\u001b[39;49m\u001b[38;5;241;43m*\u001b[39;49m\u001b[43mkwargs\u001b[49m\u001b[43m)\u001b[49m\n\u001b[0;32m    440\u001b[0m \u001b[38;5;66;03m# TODO: convert scalars to a tuple in anticipation of eventually\u001b[39;00m\n\u001b[0;32m    441\u001b[0m \u001b[38;5;66;03m#       supporting a tuple of channel axes. Right now, only an\u001b[39;00m\n\u001b[0;32m    442\u001b[0m \u001b[38;5;66;03m#       integer or a single-element tuple is supported, though.\u001b[39;00m\n\u001b[0;32m    443\u001b[0m \u001b[38;5;28;01mif\u001b[39;00m np\u001b[38;5;241m.\u001b[39misscalar(channel_axis):\n",
      "File \u001b[1;32md:\\VS-code\\Github\\Project02\\vnev\\Lib\\site-packages\\skimage\\feature\\_hog.py:292\u001b[0m, in \u001b[0;36mhog\u001b[1;34m(image, orientations, pixels_per_cell, cells_per_block, block_norm, visualize, transform_sqrt, feature_vector, channel_axis)\u001b[0m\n\u001b[0;32m    285\u001b[0m                 centre \u001b[38;5;241m=\u001b[39m \u001b[38;5;28mtuple\u001b[39m([r \u001b[38;5;241m*\u001b[39m c_row \u001b[38;5;241m+\u001b[39m c_row \u001b[38;5;241m/\u001b[39m\u001b[38;5;241m/\u001b[39m \u001b[38;5;241m2\u001b[39m, c \u001b[38;5;241m*\u001b[39m c_col \u001b[38;5;241m+\u001b[39m c_col \u001b[38;5;241m/\u001b[39m\u001b[38;5;241m/\u001b[39m \u001b[38;5;241m2\u001b[39m])\n\u001b[0;32m    286\u001b[0m                 rr, cc \u001b[38;5;241m=\u001b[39m draw\u001b[38;5;241m.\u001b[39mline(\n\u001b[0;32m    287\u001b[0m                     \u001b[38;5;28mint\u001b[39m(centre[\u001b[38;5;241m0\u001b[39m] \u001b[38;5;241m-\u001b[39m dc),\n\u001b[0;32m    288\u001b[0m                     \u001b[38;5;28mint\u001b[39m(centre[\u001b[38;5;241m1\u001b[39m] \u001b[38;5;241m+\u001b[39m dr),\n\u001b[0;32m    289\u001b[0m                     \u001b[38;5;28mint\u001b[39m(centre[\u001b[38;5;241m0\u001b[39m] \u001b[38;5;241m+\u001b[39m dc),\n\u001b[0;32m    290\u001b[0m                     \u001b[38;5;28mint\u001b[39m(centre[\u001b[38;5;241m1\u001b[39m] \u001b[38;5;241m-\u001b[39m dr),\n\u001b[0;32m    291\u001b[0m                 )\n\u001b[1;32m--> 292\u001b[0m                 hog_image[rr, cc] \u001b[38;5;241m+\u001b[39m\u001b[38;5;241m=\u001b[39m orientation_histogram[r, c, o]\n\u001b[0;32m    294\u001b[0m \u001b[38;5;250m\u001b[39m\u001b[38;5;124;03m\"\"\"\u001b[39;00m\n\u001b[0;32m    295\u001b[0m \u001b[38;5;124;03mThe fourth stage computes normalization, which takes local groups of\u001b[39;00m\n\u001b[0;32m    296\u001b[0m \u001b[38;5;124;03mcells and contrast normalizes their overall responses before passing\u001b[39;00m\n\u001b[1;32m   (...)\u001b[0m\n\u001b[0;32m    306\u001b[0m \u001b[38;5;124;03mGradient (HOG) descriptors.\u001b[39;00m\n\u001b[0;32m    307\u001b[0m \u001b[38;5;124;03m\"\"\"\u001b[39;00m\n\u001b[0;32m    309\u001b[0m n_blocks_row \u001b[38;5;241m=\u001b[39m (n_cells_row \u001b[38;5;241m-\u001b[39m b_row) \u001b[38;5;241m+\u001b[39m \u001b[38;5;241m1\u001b[39m\n",
      "\u001b[1;31mKeyboardInterrupt\u001b[0m: "
     ]
    }
   ],
   "source": [
    "from skimage.feature import hog\n",
    "\n",
    "# Function to extract color histogram features\n",
    "def extract_color_histogram(image, bins=32):\n",
    "    hsv_image = cv2.cvtColor(image, cv2.COLOR_BGR2HSV)\n",
    "    hist_features = []\n",
    "    for i in range(3):  # 3 channels in HSV\n",
    "        hist = np.histogram(hsv_image[:, :, i], bins=bins, range=(0, 256))[0]\n",
    "        hist_features.append(hist)\n",
    "    return np.concatenate(hist_features)\n",
    "\n",
    "# Function to extract spatial binning features\n",
    "def extract_spatial_binning(image, size=(32, 32)):\n",
    "    return cv2.resize(image, size).ravel()\n",
    "\n",
    "# Function to extract HOG features with a size check\n",
    "def extract_hog_features(image, orientations=9, pixels_per_cell=(8, 8), cells_per_block=(2, 2)):\n",
    "    gray_image = cv2.cvtColor(image, cv2.COLOR_BGR2GRAY)\n",
    "    \n",
    "    # Ensure the image size is large enough for the given HOG parameters\n",
    "    if gray_image.shape[0] >= pixels_per_cell[0] * cells_per_block[0] and gray_image.shape[1] >= pixels_per_cell[1] * cells_per_block[1]:\n",
    "        features, _ = hog(gray_image, orientations=orientations, pixels_per_cell=pixels_per_cell,\n",
    "                          cells_per_block=cells_per_block, visualize=True)\n",
    "        return features\n",
    "    else:\n",
    "        # Return a placeholder if the image is too small for HOG\n",
    "        print(f\"Image is too small for HOG feature extraction. Size: {gray_image.shape}\")\n",
    "        return np.zeros(orientations * cells_per_block[0] * cells_per_block[1])\n",
    "\n",
    "# Function to extract combined features (color histogram, spatial binning, and HOG)\n",
    "def extract_combined_features(image):\n",
    "        \n",
    "    color_features = extract_color_histogram(image, bins=32)\n",
    "    spatial_features = extract_spatial_binning(image, size=(32, 32))\n",
    "    hog_features = extract_hog_features(image)  # Extract HOG features with size check\n",
    "    return np.concatenate((color_features, spatial_features, hog_features))\n",
    "\n",
    "# Extract features from the dataset\n",
    "features = [extract_combined_features(img) for img in images]\n"
   ]
  },
  {
   "cell_type": "code",
   "execution_count": null,
   "metadata": {},
   "outputs": [],
   "source": [
    "from sklearn.preprocessing import LabelEncoder\n",
    "\n",
    "# Encode labels into numerical values\n",
    "label_encoder = LabelEncoder()\n",
    "encoded_labels = label_encoder.fit_transform(labels)\n"
   ]
  },
  {
   "cell_type": "code",
   "execution_count": null,
   "metadata": {},
   "outputs": [],
   "source": [
    "from sklearn.preprocessing import KBinsDiscretizer\n",
    "\n",
    "# Discretize the features using KBinsDiscretizer\n",
    "discretizer = KBinsDiscretizer(n_bins=10, encode='ordinal', strategy='uniform')\n",
    "discretized_features = discretizer.fit_transform(features)\n"
   ]
  },
  {
   "cell_type": "code",
   "execution_count": null,
   "metadata": {},
   "outputs": [],
   "source": [
    "from sklearn.naive_bayes import GaussianNB\n",
    "from sklearn.model_selection import train_test_split\n",
    "from sklearn.metrics import classification_report\n",
    "\n",
    "# Split the dataset into training and testing sets\n",
    "X_train, X_test, y_train, y_test = train_test_split(discretized_features, encoded_labels, test_size=0.2, random_state=42)\n",
    "\n",
    "# Train a Gaussian Naive Bayes classifier\n",
    "nb_model = GaussianNB()\n",
    "nb_model.fit(X_train, y_train)\n",
    "\n",
    "# Test the model and print the classification report\n",
    "y_pred = nb_model.predict(X_test)\n",
    "print(classification_report(y_test, y_pred, target_names=label_encoder.classes_))\n"
   ]
  },
  {
   "cell_type": "code",
   "execution_count": null,
   "metadata": {},
   "outputs": [],
   "source": [
    "# Sliding window function for object localization\n",
    "def sliding_window(image, step_size, window_size):\n",
    "    for y in range(0, image.shape[0] - window_size[1], step_size):\n",
    "        for x in range(0, image.shape[1] - window_size[0], step_size):\n",
    "            yield (x, y, image[y:y + window_size[1], x:x + window_size[0]])\n",
    "\n",
    "# Function to detect vehicles in a video frame using sliding window and classifier\n",
    "def detect_vehicles_in_frame(frame, model, label_encoder, window_size=(128, 128), step_size=32):\n",
    "    detected_objects = []\n",
    "    for (x, y, window) in sliding_window(frame, step_size, window_size):\n",
    "        if window.shape[0] != window_size[1] or window.shape[1] != window_size[0]:\n",
    "            continue\n",
    "        \n",
    "        # Extract features for the current window\n",
    "        window_features = extract_combined_features(window).reshape(1, -1)\n",
    "        \n",
    "        # Discretize the features for Naive Bayes\n",
    "        window_features = discretizer.transform(window_features)\n",
    "        \n",
    "        # Predict the class using the trained model\n",
    "        prediction = model.predict(window_features)\n",
    "        predicted_class = label_encoder.inverse_transform(prediction)[0]\n",
    "        \n",
    "        if predicted_class != 'no_vehicle':\n",
    "            detected_objects.append((x, y, predicted_class))\n",
    "            cv2.rectangle(frame, (x, y), (x + window_size[0], y + window_size[1]), (0, 255, 0), 2)\n",
    "            cv2.putText(frame, predicted_class, (x, y - 10), cv2.FONT_HERSHEY_SIMPLEX, 0.9, (0, 255, 0), 2)\n",
    "    \n",
    "    return frame, detected_objects\n"
   ]
  },
  {
   "cell_type": "code",
   "execution_count": null,
   "metadata": {},
   "outputs": [],
   "source": [
    "def process_video(input_path, output_path, model, label_encoder, window_size=(128, 128), step_size=32):\n",
    "    cap = cv2.VideoCapture(input_path)\n",
    "    width = int(cap.get(cv2.CAP_PROP_FRAME_WIDTH))\n",
    "    height = int(cap.get(cv2.CAP_PROP_FRAME_HEIGHT))\n",
    "    writer = cv2.VideoWriter(output_path, cv2.VideoWriter_fourcc(*'DIVX'), 20, (width, height))\n",
    "\n",
    "    frame_idx = 0\n",
    "    while cap.isOpened():\n",
    "        ret, frame = cap.read()\n",
    "        if ret:\n",
    "            # Detect vehicles in the current frame\n",
    "            frame, detected_objects = detect_vehicles_in_frame(frame, model, label_encoder, window_size, step_size)\n",
    "            writer.write(frame)\n",
    "            frame_idx += 1\n",
    "        else:\n",
    "            break\n",
    "\n",
    "        if cv2.waitKey(1) & 0xFF == ord('q'):\n",
    "            break\n",
    "\n",
    "    cap.release()\n",
    "    writer.release()\n",
    "    cv2.destroyAllWindows()\n",
    "    print(f\"Video processing complete. Output saved to {output_path}\")\n",
    "\n",
    "# Example usage\n",
    "input_video_path = './dataset/sample_videos/sample_2.mp4'\n",
    "output_video_path = './Prediction/Naive_bayes_vehicle_detection_output.mp4'\n",
    "\n",
    "# Process the video\n",
    "process_video(input_video_path, output_video_path, nb_model, label_encoder)\n"
   ]
  },
  {
   "cell_type": "code",
   "execution_count": null,
   "metadata": {},
   "outputs": [],
   "source": []
  }
 ],
 "metadata": {
  "kernelspec": {
   "display_name": "vnev",
   "language": "python",
   "name": "python3"
  },
  "language_info": {
   "codemirror_mode": {
    "name": "ipython",
    "version": 3
   },
   "file_extension": ".py",
   "mimetype": "text/x-python",
   "name": "python",
   "nbconvert_exporter": "python",
   "pygments_lexer": "ipython3",
   "version": "3.12.5"
  }
 },
 "nbformat": 4,
 "nbformat_minor": 2
}
